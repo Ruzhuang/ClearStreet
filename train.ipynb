{
 "cells": [
  {
   "cell_type": "code",
   "execution_count": null,
   "metadata": {},
   "outputs": [],
   "source": [
    "%pip install optuna"
   ]
  },
  {
   "cell_type": "markdown",
   "metadata": {},
   "source": [
    "## training for Y1"
   ]
  },
  {
   "cell_type": "code",
   "execution_count": 1,
   "metadata": {
    "tags": []
   },
   "outputs": [],
   "source": [
    "n_trials=10\n",
    "import random\n",
    "import optuna\n",
    "import xgboost as xgb\n",
    "import numpy as np\n",
    "import pandas as pd\n",
    "import shap\n",
    "import pickle\n",
    "from sklearn.metrics import mean_squared_error\n",
    "\n",
    "# Function to prepare data (split into training and evaluation sets)\n",
    "def prepare_data(X_section, y_section, train_size, eval_size):\n",
    "    # Split the data into training and evaluation sets\n",
    "    splits = [train_size] + [train_size + eval_size * i for i in range(1, 5)]\n",
    "    X_splits = np.split(X_section, splits)\n",
    "    y_splits = np.split(y_section, splits)\n",
    "\n",
    "    # Assign the splits to respective variables\n",
    "    X_train, X_eval_1, X_eval_2, X_eval_3, X_eval_4 = X_splits[:5]\n",
    "    y_train, y_eval_1, y_eval_2, y_eval_3, y_eval_4 = y_splits[:5]\n",
    "\n",
    "    X_eval = [X_eval_1, X_eval_2, X_eval_3, X_eval_4]\n",
    "    y_eval = [y_eval_1, y_eval_2, y_eval_3, y_eval_4]\n",
    "\n",
    "    return X_train, X_eval, y_train, y_eval\n",
    "\n",
    "# Objective function for Optuna\n",
    "def objective(trial, X_train, y_train, X_eval, y_eval):\n",
    "    param = {\n",
    "        'max_depth': trial.suggest_int('max_depth', 3, 30),\n",
    "        'learning_rate': trial.suggest_float('learning_rate', 0.01, 0.3),\n",
    "        'n_estimators': trial.suggest_int('n_estimators', 50, 150),\n",
    "        'min_child_weight': trial.suggest_int('min_child_weight', 1, 10),\n",
    "        'subsample': trial.suggest_float('subsample', 0.5, 1),\n",
    "        'colsample_bytree': trial.suggest_float('colsample_bytree', 0.5, 1),\n",
    "        'reg_alpha': trial.suggest_float('reg_alpha', 1e-5, 10, log=True),\n",
    "        'reg_lambda': trial.suggest_float('reg_lambda', 1e-5, 10, log=True),\n",
    "        'early_stopping_rounds': trial.suggest_int('early_stopping_rounds', 3, 20)\n",
    "    }\n",
    "\n",
    "    regr = xgb.XGBRegressor(**param)\n",
    "    regr.fit(X_train, y_train, eval_set=[(X_eval[0], y_eval[0])], verbose=0)\n",
    "\n",
    "    preds = regr.predict(X_eval[1])\n",
    "    rmse = np.sqrt(mean_squared_error(y_eval[1], preds))\n",
    "    return rmse\n",
    "\n",
    "with open('df_storage/cleaned_train_df_Y1.pkl', 'rb') as file:\n",
    "    cleaned_train_df_Y1 = pickle.load(file)\n",
    "\n",
    "# Preparing the data\n",
    "X = cleaned_train_df_Y1.drop(['sym', 'exch', 'Y1', 'Y2', 'Q1', 'Q2'], axis=1)\n",
    "y = cleaned_train_df_Y1['Y1']\n",
    "\n",
    "\n",
    "# Define the size of the training and evaluation sets\n",
    "train_size = int(len(X) * 0.6)\n",
    "eval_size = int(len(X) * 0.1)\n",
    "\n",
    "\n",
    "\n",
    "X_train, X_eval, y_train, y_eval = prepare_data(X, y, train_size, eval_size)\n",
    "\n",
    "# Optuna study\n",
    "study = optuna.create_study(direction='minimize')\n",
    "study.optimize(lambda trial: objective(trial, X_train, y_train, X_eval, y_eval), n_trials=n_trials)\n",
    "\n",
    "# Best parameters from initial tuning\n",
    "best_params = study.best_params\n",
    "\n",
    "# Iteratively reduce features\n",
    "selected_features = X_train.columns\n",
    "\n",
    "model = xgb.XGBRegressor(**best_params)\n",
    "model.fit(X_train, y_train, eval_set=[(X_eval[0], y_eval[0])], verbose=0)\n",
    "\n",
    "# Calculate SHAP values\n",
    "explainer = shap.Explainer(model, X_train, check_additivity=False)\n",
    "shap_values = explainer.shap_values(X_train)\n",
    "\n",
    "# Summarize the SHAP values to get feature importance\n",
    "shap_sum = np.abs(shap_values).mean(axis=0)\n",
    "importance_df = pd.DataFrame([selected_features, shap_sum.tolist()]).T\n",
    "importance_df.columns = ['feature', 'importance']"
   ]
  },
  {
   "cell_type": "code",
   "execution_count": null,
   "metadata": {},
   "outputs": [],
   "source": [
    "importance_df.sort_values(by='importance', ascending=False).to_csv('importance_1.csv')"
   ]
  },
  {
   "cell_type": "code",
   "execution_count": 10,
   "metadata": {
    "tags": []
   },
   "outputs": [
    {
     "name": "stderr",
     "output_type": "stream",
     "text": [
      "[I 2024-01-22 03:53:05,236] A new study created in memory with name: no-name-601cfcaf-c1df-49da-a9ca-3d201885d3ca\n",
      "[I 2024-01-22 03:53:49,969] Trial 0 finished with value: 13.531091690063477 and parameters: {'max_depth': 15, 'learning_rate': 0.28795381806350573, 'n_estimators': 86, 'min_child_weight': 1, 'subsample': 0.9356442461717759, 'colsample_bytree': 0.7643129195847209, 'reg_alpha': 0.004905139946654672, 'reg_lambda': 3.350868773905838, 'early_stopping_rounds': 6}. Best is trial 0 with value: 13.531091690063477.\n",
      "[I 2024-01-22 03:56:35,585] Trial 1 finished with value: 13.609201431274414 and parameters: {'max_depth': 23, 'learning_rate': 0.2785841337672965, 'n_estimators': 71, 'min_child_weight': 6, 'subsample': 0.614537275900993, 'colsample_bytree': 0.7916647065595368, 'reg_alpha': 5.3323640370796874e-05, 'reg_lambda': 1.412136580585176, 'early_stopping_rounds': 15}. Best is trial 0 with value: 13.531091690063477.\n",
      "[I 2024-01-22 03:57:20,017] Trial 2 finished with value: 13.416313171386719 and parameters: {'max_depth': 18, 'learning_rate': 0.10581897309004434, 'n_estimators': 150, 'min_child_weight': 7, 'subsample': 0.6283485903782609, 'colsample_bytree': 0.9525543388673483, 'reg_alpha': 7.678950937911038e-05, 'reg_lambda': 0.2449563407277549, 'early_stopping_rounds': 6}. Best is trial 2 with value: 13.416313171386719.\n",
      "[I 2024-01-22 04:01:07,565] Trial 3 finished with value: 13.539907455444336 and parameters: {'max_depth': 25, 'learning_rate': 0.18590879388480835, 'n_estimators': 90, 'min_child_weight': 7, 'subsample': 0.6930136172018029, 'colsample_bytree': 0.636165735043311, 'reg_alpha': 9.791215054115307, 'reg_lambda': 0.00033610829169278316, 'early_stopping_rounds': 20}. Best is trial 2 with value: 13.416313171386719.\n",
      "[I 2024-01-22 04:03:15,057] Trial 4 finished with value: 13.470247268676758 and parameters: {'max_depth': 29, 'learning_rate': 0.10745348741970061, 'n_estimators': 63, 'min_child_weight': 3, 'subsample': 0.9607531776021697, 'colsample_bytree': 0.8150086855790296, 'reg_alpha': 0.10619940029828791, 'reg_lambda': 0.0004424755486545183, 'early_stopping_rounds': 8}. Best is trial 2 with value: 13.416313171386719.\n",
      "[I 2024-01-22 04:03:28,810] Trial 5 finished with value: 13.45146369934082 and parameters: {'max_depth': 9, 'learning_rate': 0.28461344809461786, 'n_estimators': 66, 'min_child_weight': 5, 'subsample': 0.6734669777600918, 'colsample_bytree': 0.5581391958627439, 'reg_alpha': 1.2670991931045064, 'reg_lambda': 0.00018766325967100705, 'early_stopping_rounds': 3}. Best is trial 2 with value: 13.416313171386719.\n",
      "[I 2024-01-22 04:04:07,968] Trial 6 finished with value: 13.464187622070312 and parameters: {'max_depth': 20, 'learning_rate': 0.11379762922909108, 'n_estimators': 100, 'min_child_weight': 4, 'subsample': 0.6101248724822994, 'colsample_bytree': 0.9172526216143162, 'reg_alpha': 0.3132715077756146, 'reg_lambda': 0.02016735703652808, 'early_stopping_rounds': 4}. Best is trial 2 with value: 13.416313171386719.\n",
      "[I 2024-01-22 04:04:31,954] Trial 7 finished with value: 13.406610488891602 and parameters: {'max_depth': 4, 'learning_rate': 0.15667068252101332, 'n_estimators': 67, 'min_child_weight': 1, 'subsample': 0.6619444335038305, 'colsample_bytree': 0.9959691557939888, 'reg_alpha': 0.3035431380168496, 'reg_lambda': 0.018877290895417124, 'early_stopping_rounds': 14}. Best is trial 7 with value: 13.406610488891602.\n",
      "[I 2024-01-22 04:05:12,995] Trial 8 finished with value: 13.413665771484375 and parameters: {'max_depth': 11, 'learning_rate': 0.16401245019570912, 'n_estimators': 99, 'min_child_weight': 6, 'subsample': 0.6280794855657312, 'colsample_bytree': 0.8084669855797145, 'reg_alpha': 0.0001237206216353428, 'reg_lambda': 0.6909115918593599, 'early_stopping_rounds': 9}. Best is trial 7 with value: 13.406610488891602.\n",
      "[I 2024-01-22 04:05:51,202] Trial 9 finished with value: 13.431282997131348 and parameters: {'max_depth': 13, 'learning_rate': 0.14682424327066906, 'n_estimators': 142, 'min_child_weight': 6, 'subsample': 0.9602397750482021, 'colsample_bytree': 0.5508480159826095, 'reg_alpha': 0.0003624400423747113, 'reg_lambda': 0.1464351752958235, 'early_stopping_rounds': 7}. Best is trial 7 with value: 13.406610488891602.\n",
      "[I 2024-01-22 04:06:09,348] Trial 10 finished with value: 13.405957221984863 and parameters: {'max_depth': 3, 'learning_rate': 0.037680150570530827, 'n_estimators': 123, 'min_child_weight': 9, 'subsample': 0.5000171502236744, 'colsample_bytree': 0.9883940085292822, 'reg_alpha': 0.010633345600738071, 'reg_lambda': 2.032828600092427e-05, 'early_stopping_rounds': 14}. Best is trial 10 with value: 13.405957221984863.\n",
      "[I 2024-01-22 04:06:34,694] Trial 11 finished with value: 13.405072212219238 and parameters: {'max_depth': 3, 'learning_rate': 0.016648761086657193, 'n_estimators': 128, 'min_child_weight': 10, 'subsample': 0.537961354434098, 'colsample_bytree': 0.9847246971600976, 'reg_alpha': 0.011941551233643984, 'reg_lambda': 0.006190692049989842, 'early_stopping_rounds': 14}. Best is trial 11 with value: 13.405072212219238.\n",
      "[I 2024-01-22 04:07:01,688] Trial 12 finished with value: 13.404214859008789 and parameters: {'max_depth': 3, 'learning_rate': 0.016041184020630594, 'n_estimators': 122, 'min_child_weight': 10, 'subsample': 0.5019699099738552, 'colsample_bytree': 0.8938540040525169, 'reg_alpha': 0.005460146297879157, 'reg_lambda': 1.8170537672385507e-05, 'early_stopping_rounds': 13}. Best is trial 12 with value: 13.404214859008789.\n",
      "[I 2024-01-22 04:08:26,223] Trial 13 finished with value: 13.417558670043945 and parameters: {'max_depth': 7, 'learning_rate': 0.01498628658689541, 'n_estimators': 123, 'min_child_weight': 10, 'subsample': 0.5166820927548063, 'colsample_bytree': 0.8995358952942449, 'reg_alpha': 0.0032380468896067802, 'reg_lambda': 1.611726769627342e-05, 'early_stopping_rounds': 18}. Best is trial 12 with value: 13.404214859008789.\n",
      "[I 2024-01-22 04:09:16,199] Trial 14 finished with value: 13.43137264251709 and parameters: {'max_depth': 6, 'learning_rate': 0.05496327080115103, 'n_estimators': 122, 'min_child_weight': 9, 'subsample': 0.8109153882362778, 'colsample_bytree': 0.8747813646012733, 'reg_alpha': 0.023337948339461796, 'reg_lambda': 0.002617487811397484, 'early_stopping_rounds': 11}. Best is trial 12 with value: 13.404214859008789.\n",
      "[I 2024-01-22 04:09:56,660] Trial 15 finished with value: 13.413614273071289 and parameters: {'max_depth': 9, 'learning_rate': 0.06533111391413984, 'n_estimators': 136, 'min_child_weight': 10, 'subsample': 0.551758095104316, 'colsample_bytree': 0.7031421417150016, 'reg_alpha': 0.0007570610593331679, 'reg_lambda': 0.0026706332355890777, 'early_stopping_rounds': 11}. Best is trial 12 with value: 13.404214859008789.\n",
      "[I 2024-01-22 04:10:59,007] Trial 16 finished with value: 13.40958309173584 and parameters: {'max_depth': 4, 'learning_rate': 0.014116684762126575, 'n_estimators': 114, 'min_child_weight': 8, 'subsample': 0.7812288164728862, 'colsample_bytree': 0.8728906429583585, 'reg_alpha': 0.03997681952023662, 'reg_lambda': 9.150370384799659e-05, 'early_stopping_rounds': 16}. Best is trial 12 with value: 13.404214859008789.\n",
      "[I 2024-01-22 04:11:32,491] Trial 17 finished with value: 13.403748512268066 and parameters: {'max_depth': 7, 'learning_rate': 0.23131747074204675, 'n_estimators': 109, 'min_child_weight': 9, 'subsample': 0.5693040941827352, 'colsample_bytree': 0.8509970312502493, 'reg_alpha': 1.2825616007973494e-05, 'reg_lambda': 0.0028648488303011275, 'early_stopping_rounds': 12}. Best is trial 17 with value: 13.403748512268066.\n",
      "[I 2024-01-22 04:12:36,554] Trial 18 finished with value: 13.457731246948242 and parameters: {'max_depth': 12, 'learning_rate': 0.2267116994951948, 'n_estimators': 111, 'min_child_weight': 8, 'subsample': 0.8658274486133954, 'colsample_bytree': 0.7118757685928084, 'reg_alpha': 0.001157803787730896, 'reg_lambda': 4.050132757934965e-05, 'early_stopping_rounds': 12}. Best is trial 17 with value: 13.403748512268066.\n",
      "[I 2024-01-22 04:13:22,946] Trial 19 finished with value: 13.403599739074707 and parameters: {'max_depth': 7, 'learning_rate': 0.22517383853431985, 'n_estimators': 84, 'min_child_weight': 9, 'subsample': 0.5636603449931781, 'colsample_bytree': 0.8472437948713637, 'reg_alpha': 0.00024822901877928643, 'reg_lambda': 0.0007572102812032156, 'early_stopping_rounds': 17}. Best is trial 19 with value: 13.403599739074707.\n",
      "[I 2024-01-22 04:15:16,462] Trial 20 finished with value: 13.46464729309082 and parameters: {'max_depth': 16, 'learning_rate': 0.23956200179483877, 'n_estimators': 79, 'min_child_weight': 8, 'subsample': 0.7175307925682834, 'colsample_bytree': 0.8500475890148175, 'reg_alpha': 3.14985769470461e-05, 'reg_lambda': 0.001075528118720982, 'early_stopping_rounds': 17}. Best is trial 19 with value: 13.403599739074707.\n",
      "[I 2024-01-22 04:16:00,722] Trial 21 finished with value: 13.403562545776367 and parameters: {'max_depth': 7, 'learning_rate': 0.22190182283567148, 'n_estimators': 53, 'min_child_weight': 9, 'subsample': 0.5619674148208214, 'colsample_bytree': 0.8416463991767371, 'reg_alpha': 1.3159340066615911e-05, 'reg_lambda': 0.05414259723201996, 'early_stopping_rounds': 19}. Best is trial 21 with value: 13.403562545776367.\n",
      "[I 2024-01-22 04:16:54,013] Trial 22 finished with value: 13.410481452941895 and parameters: {'max_depth': 8, 'learning_rate': 0.2295380371692514, 'n_estimators': 50, 'min_child_weight': 9, 'subsample': 0.5817591161479544, 'colsample_bytree': 0.8359501881440753, 'reg_alpha': 1.1484766048707172e-05, 'reg_lambda': 0.0635091366999562, 'early_stopping_rounds': 20}. Best is trial 21 with value: 13.403562545776367.\n",
      "[I 2024-01-22 04:17:58,040] Trial 23 finished with value: 13.428461074829102 and parameters: {'max_depth': 11, 'learning_rate': 0.20093309524211594, 'n_estimators': 54, 'min_child_weight': 7, 'subsample': 0.5691384505760058, 'colsample_bytree': 0.7250555182533088, 'reg_alpha': 1.6249699258716966e-05, 'reg_lambda': 0.04544328363239712, 'early_stopping_rounds': 18}. Best is trial 21 with value: 13.403562545776367.\n",
      "[I 2024-01-22 04:18:38,837] Trial 24 finished with value: 13.419602394104004 and parameters: {'max_depth': 6, 'learning_rate': 0.2566636056920282, 'n_estimators': 102, 'min_child_weight': 9, 'subsample': 0.7425664938106331, 'colsample_bytree': 0.7655220641950828, 'reg_alpha': 0.00022287341517737412, 'reg_lambda': 0.005861348214072711, 'early_stopping_rounds': 19}. Best is trial 21 with value: 13.403562545776367.\n",
      "[I 2024-01-22 04:20:08,065] Trial 25 finished with value: 13.426713943481445 and parameters: {'max_depth': 13, 'learning_rate': 0.20256182736331305, 'n_estimators': 78, 'min_child_weight': 8, 'subsample': 0.578296543733273, 'colsample_bytree': 0.9343959232237542, 'reg_alpha': 1.0218236771335093e-05, 'reg_lambda': 0.0012608988520915116, 'early_stopping_rounds': 16}. Best is trial 21 with value: 13.403562545776367.\n",
      "[I 2024-01-22 04:20:53,829] Trial 26 finished with value: 13.445525169372559 and parameters: {'max_depth': 10, 'learning_rate': 0.2622345524005406, 'n_estimators': 59, 'min_child_weight': 9, 'subsample': 0.6474630636778012, 'colsample_bytree': 0.8545163718163776, 'reg_alpha': 3.8781293728426456e-05, 'reg_lambda': 0.0008620671414478848, 'early_stopping_rounds': 10}. Best is trial 21 with value: 13.403562545776367.\n",
      "[I 2024-01-22 04:21:31,461] Trial 27 finished with value: 13.397919654846191 and parameters: {'max_depth': 6, 'learning_rate': 0.249407058209529, 'n_estimators': 88, 'min_child_weight': 7, 'subsample': 0.591095619361343, 'colsample_bytree': 0.7882789772211479, 'reg_alpha': 0.00015994910444829964, 'reg_lambda': 0.01924009042129767, 'early_stopping_rounds': 18}. Best is trial 27 with value: 13.397919654846191.\n",
      "[I 2024-01-22 04:22:05,260] Trial 28 finished with value: 13.405674934387207 and parameters: {'max_depth': 5, 'learning_rate': 0.20411524122077518, 'n_estimators': 92, 'min_child_weight': 7, 'subsample': 0.7094826595335965, 'colsample_bytree': 0.6528373000139623, 'reg_alpha': 0.0011087352626461327, 'reg_lambda': 0.25670778079440093, 'early_stopping_rounds': 18}. Best is trial 27 with value: 13.397919654846191.\n",
      "[I 2024-01-22 04:23:29,053] Trial 29 finished with value: 13.45631217956543 and parameters: {'max_depth': 15, 'learning_rate': 0.2554099745224626, 'n_estimators': 82, 'min_child_weight': 5, 'subsample': 0.5389358800185517, 'colsample_bytree': 0.767266853445156, 'reg_alpha': 0.00022686963333434226, 'reg_lambda': 2.7064319402844794, 'early_stopping_rounds': 16}. Best is trial 27 with value: 13.397919654846191.\n"
     ]
    },
    {
     "name": "stdout",
     "output_type": "stream",
     "text": [
      "['time' 'X230' 'X232' 'X121' 'X53' 'X52' 'X49' 'X51' 'X316' 'X372']\n"
     ]
    }
   ],
   "source": [
    "selected_features = importance_df.sort_values(by='importance', ascending=False).head(10)['feature'].values\n",
    "\n",
    "# Redefine train and validation sets\n",
    "X_train = X_train[selected_features]\n",
    "for i in range(len(X_eval)):\n",
    "    X_eval[i] = X_eval[i][selected_features]\n",
    "\n",
    "# Update study for next iteration\n",
    "study = optuna.create_study(direction='minimize')\n",
    "study.optimize(lambda trial: objective(trial, X_train, y_train, X_eval, y_eval),  n_trials=30)\n",
    "best_params = study.best_params\n",
    "\n",
    "print(selected_features)"
   ]
  },
  {
   "cell_type": "code",
   "execution_count": 12,
   "metadata": {
    "tags": []
   },
   "outputs": [
    {
     "data": {
      "text/plain": [
       "{'max_depth': 6,\n",
       " 'learning_rate': 0.249407058209529,\n",
       " 'n_estimators': 88,\n",
       " 'min_child_weight': 7,\n",
       " 'subsample': 0.591095619361343,\n",
       " 'colsample_bytree': 0.7882789772211479,\n",
       " 'reg_alpha': 0.00015994910444829964,\n",
       " 'reg_lambda': 0.01924009042129767,\n",
       " 'early_stopping_rounds': 18}"
      ]
     },
     "execution_count": 12,
     "metadata": {},
     "output_type": "execute_result"
    }
   ],
   "source": [
    "best_params"
   ]
  },
  {
   "cell_type": "code",
   "execution_count": 23,
   "metadata": {
    "tags": []
   },
   "outputs": [],
   "source": [
    "# Get the best model on train set and dump\n",
    "train_size = int(len(X) * 0.85)\n",
    "\n",
    "# split data into train and validation set\n",
    "X_train, X_eval = X.iloc[:train_size][selected_features], X.iloc[train_size:][selected_features]\n",
    "y_train, y_eval = y.iloc[:train_size], y.iloc[train_size:]\n",
    "\n",
    "\n",
    "model = xgb.XGBRegressor(**best_params)\n",
    "model.fit(X_train, y_train, eval_set=[(X_eval, y_eval)], verbose=0)\n",
    "model.save_model('model_Y1.json')\n"
   ]
  },
  {
   "cell_type": "code",
   "execution_count": null,
   "metadata": {},
   "outputs": [],
   "source": []
  },
  {
   "cell_type": "markdown",
   "metadata": {},
   "source": [
    "## Training for Y2"
   ]
  },
  {
   "cell_type": "code",
   "execution_count": 18,
   "metadata": {
    "tags": []
   },
   "outputs": [
    {
     "name": "stderr",
     "output_type": "stream",
     "text": [
      "[I 2024-01-22 10:31:26,156] A new study created in memory with name: no-name-c5689efc-637e-4bef-b6b3-0d95fa295882\n",
      "[I 2024-01-22 10:38:27,208] Trial 0 finished with value: 18.31778335571289 and parameters: {'max_depth': 27, 'learning_rate': 0.04583373939046242, 'n_estimators': 99, 'min_child_weight': 4, 'subsample': 0.6635043073901279, 'colsample_bytree': 0.6951387099349245, 'reg_alpha': 0.006494981363932844, 'reg_lambda': 0.2913953663199943, 'early_stopping_rounds': 5}. Best is trial 0 with value: 18.31778335571289.\n",
      "[I 2024-01-22 10:40:09,057] Trial 1 finished with value: 18.253154754638672 and parameters: {'max_depth': 3, 'learning_rate': 0.17046085516526174, 'n_estimators': 73, 'min_child_weight': 7, 'subsample': 0.7692173505746742, 'colsample_bytree': 0.9333325510479389, 'reg_alpha': 0.5276833176325726, 'reg_lambda': 0.9383146087442483, 'early_stopping_rounds': 12}. Best is trial 1 with value: 18.253154754638672.\n",
      "[I 2024-01-22 10:56:18,543] Trial 2 finished with value: 18.3396053314209 and parameters: {'max_depth': 26, 'learning_rate': 0.04916904829765027, 'n_estimators': 109, 'min_child_weight': 6, 'subsample': 0.566971982614724, 'colsample_bytree': 0.5453350213576043, 'reg_alpha': 0.35795977819439845, 'reg_lambda': 0.02041697589155105, 'early_stopping_rounds': 19}. Best is trial 1 with value: 18.253154754638672.\n",
      "[I 2024-01-22 11:05:18,344] Trial 3 finished with value: 18.279754638671875 and parameters: {'max_depth': 12, 'learning_rate': 0.2723672629156513, 'n_estimators': 74, 'min_child_weight': 6, 'subsample': 0.9143627923241027, 'colsample_bytree': 0.989106066374259, 'reg_alpha': 0.0004311790115753341, 'reg_lambda': 5.830014033741674, 'early_stopping_rounds': 17}. Best is trial 1 with value: 18.253154754638672.\n",
      "[I 2024-01-22 11:12:30,132] Trial 4 finished with value: 18.29220199584961 and parameters: {'max_depth': 23, 'learning_rate': 0.15160181281579596, 'n_estimators': 106, 'min_child_weight': 3, 'subsample': 0.8192159565097965, 'colsample_bytree': 0.665008758362928, 'reg_alpha': 3.0433638408682467e-05, 'reg_lambda': 4.486092974170394e-05, 'early_stopping_rounds': 9}. Best is trial 1 with value: 18.253154754638672.\n"
     ]
    }
   ],
   "source": [
    "n_trials=5\n",
    "import random\n",
    "import optuna\n",
    "import xgboost as xgb\n",
    "import numpy as np\n",
    "import pandas as pd\n",
    "import shap\n",
    "import pickle\n",
    "from sklearn.metrics import mean_squared_error\n",
    "\n",
    "# Function to prepare data (split into training and evaluation sets)\n",
    "def prepare_data(X_section, y_section, train_size, eval_size):\n",
    "    # Split the data into training and evaluation sets\n",
    "    splits = [train_size] + [train_size + eval_size * i for i in range(1, 5)]\n",
    "    X_splits = np.split(X_section, splits)\n",
    "    y_splits = np.split(y_section, splits)\n",
    "\n",
    "    # Assign the splits to respective variables\n",
    "    X_train, X_eval_1, X_eval_2, X_eval_3, X_eval_4 = X_splits[:5]\n",
    "    y_train, y_eval_1, y_eval_2, y_eval_3, y_eval_4 = y_splits[:5]\n",
    "\n",
    "    X_eval = [X_eval_1, X_eval_2, X_eval_3, X_eval_4]\n",
    "    y_eval = [y_eval_1, y_eval_2, y_eval_3, y_eval_4]\n",
    "\n",
    "    return X_train, X_eval, y_train, y_eval\n",
    "\n",
    "# Objective function for Optuna\n",
    "def objective(trial, X_train, y_train, X_eval, y_eval):\n",
    "    param = {\n",
    "        'max_depth': trial.suggest_int('max_depth', 3, 30),\n",
    "        'learning_rate': trial.suggest_float('learning_rate', 0.01, 0.3),\n",
    "        'n_estimators': trial.suggest_int('n_estimators', 50, 150),\n",
    "        'min_child_weight': trial.suggest_int('min_child_weight', 1, 10),\n",
    "        'subsample': trial.suggest_float('subsample', 0.5, 1),\n",
    "        'colsample_bytree': trial.suggest_float('colsample_bytree', 0.5, 1),\n",
    "        'reg_alpha': trial.suggest_float('reg_alpha', 1e-5, 10, log=True),\n",
    "        'reg_lambda': trial.suggest_float('reg_lambda', 1e-5, 10, log=True),\n",
    "        'early_stopping_rounds': trial.suggest_int('early_stopping_rounds', 3, 20)\n",
    "    }\n",
    "\n",
    "    regr = xgb.XGBRegressor(**param)\n",
    "    regr.fit(X_train, y_train, eval_set=[(X_eval[0], y_eval[0])], verbose=0)\n",
    "\n",
    "    preds = regr.predict(X_eval[1])\n",
    "    rmse = np.sqrt(mean_squared_error(y_eval[1], preds))\n",
    "    return rmse\n",
    "\n",
    "with open('df_storage/cleaned_train_df_Y2.pkl', 'rb') as file:\n",
    "    cleaned_train_df_Y2 = pickle.load(file)\n",
    "\n",
    "# Preparing the data\n",
    "X = cleaned_train_df_Y2.drop(['sym', 'exch', 'Y1', 'Y2', 'Q1', 'Q2'], axis=1)\n",
    "y = cleaned_train_df_Y2['Y2']\n",
    "\n",
    "\n",
    "# Define the size of the training and evaluation sets\n",
    "train_size = int(len(X) * 0.6)\n",
    "eval_size = int(len(X) * 0.1)\n",
    "\n",
    "\n",
    "\n",
    "X_train, X_eval, y_train, y_eval = prepare_data(X, y, train_size, eval_size)\n",
    "# Optuna study\n",
    "study = optuna.create_study(direction='minimize')\n",
    "study.optimize(lambda trial: objective(trial, X_train, y_train, X_eval, y_eval), n_trials=n_trials)\n",
    "\n",
    "# Best parameters from initial tuning\n",
    "best_params = study.best_params"
   ]
  },
  {
   "cell_type": "code",
   "execution_count": 19,
   "metadata": {
    "tags": []
   },
   "outputs": [
    {
     "name": "stderr",
     "output_type": "stream",
     "text": [
      "100%|===================| 3094090/3096673 [02:16<00:00]        "
     ]
    }
   ],
   "source": [
    "# Iteratively reduce features\n",
    "selected_features = X_train.columns\n",
    "\n",
    "model = xgb.XGBRegressor(**best_params)\n",
    "model.fit(X_train, y_train, eval_set=[(X_eval[0], y_eval[0])], verbose=0)\n",
    "\n",
    "# Calculate SHAP values\n",
    "explainer = shap.Explainer(model, X_train, check_additivity=False)\n",
    "shap_values = explainer.shap_values(X_train)\n",
    "\n",
    "# Summarize the SHAP values to get feature importance\n",
    "shap_sum = np.abs(shap_values).mean(axis=0)\n",
    "importance_df = pd.DataFrame([selected_features, shap_sum.tolist()]).T\n",
    "importance_df.columns = ['feature', 'importance']"
   ]
  },
  {
   "cell_type": "code",
   "execution_count": 20,
   "metadata": {
    "tags": []
   },
   "outputs": [
    {
     "data": {
      "text/plain": [
       "{'max_depth': 3,\n",
       " 'learning_rate': 0.17046085516526174,\n",
       " 'n_estimators': 73,\n",
       " 'min_child_weight': 7,\n",
       " 'subsample': 0.7692173505746742,\n",
       " 'colsample_bytree': 0.9333325510479389,\n",
       " 'reg_alpha': 0.5276833176325726,\n",
       " 'reg_lambda': 0.9383146087442483,\n",
       " 'early_stopping_rounds': 12}"
      ]
     },
     "execution_count": 20,
     "metadata": {},
     "output_type": "execute_result"
    }
   ],
   "source": [
    "best_params"
   ]
  },
  {
   "cell_type": "code",
   "execution_count": 21,
   "metadata": {
    "tags": []
   },
   "outputs": [],
   "source": [
    "importance_df.sort_values(by='importance', ascending=False).to_csv('importance_2.csv')"
   ]
  },
  {
   "cell_type": "code",
   "execution_count": 22,
   "metadata": {
    "tags": []
   },
   "outputs": [
    {
     "name": "stderr",
     "output_type": "stream",
     "text": [
      "[I 2024-01-22 11:16:54,473] A new study created in memory with name: no-name-cb200c26-2d7d-4764-9ee8-8e8e6f9830cb\n",
      "[I 2024-01-22 11:17:55,444] Trial 0 finished with value: 18.299022674560547 and parameters: {'max_depth': 12, 'learning_rate': 0.24820871465526181, 'n_estimators': 116, 'min_child_weight': 7, 'subsample': 0.73169067622898, 'colsample_bytree': 0.7403223891564796, 'reg_alpha': 0.000104580853258994, 'reg_lambda': 0.34845864826319073, 'early_stopping_rounds': 14}. Best is trial 0 with value: 18.299022674560547.\n",
      "[I 2024-01-22 11:20:22,212] Trial 1 finished with value: 18.357656478881836 and parameters: {'max_depth': 27, 'learning_rate': 0.22336602347585552, 'n_estimators': 73, 'min_child_weight': 9, 'subsample': 0.5395475625206507, 'colsample_bytree': 0.8308221375862896, 'reg_alpha': 0.49254364147333457, 'reg_lambda': 0.0003648636275849078, 'early_stopping_rounds': 15}. Best is trial 0 with value: 18.299022674560547.\n",
      "[I 2024-01-22 11:21:42,082] Trial 2 finished with value: 18.23427963256836 and parameters: {'max_depth': 11, 'learning_rate': 0.15364499649044852, 'n_estimators': 62, 'min_child_weight': 10, 'subsample': 0.9790072574718848, 'colsample_bytree': 0.6659427182907711, 'reg_alpha': 0.06705199920498466, 'reg_lambda': 0.825444069696309, 'early_stopping_rounds': 19}. Best is trial 2 with value: 18.23427963256836.\n",
      "[I 2024-01-22 11:22:20,063] Trial 3 finished with value: 18.444900512695312 and parameters: {'max_depth': 25, 'learning_rate': 0.24017313201038162, 'n_estimators': 57, 'min_child_weight': 9, 'subsample': 0.9352830343579095, 'colsample_bytree': 0.9410985920005592, 'reg_alpha': 6.938272689294226e-05, 'reg_lambda': 0.11533067493113615, 'early_stopping_rounds': 3}. Best is trial 2 with value: 18.23427963256836.\n",
      "[I 2024-01-22 11:23:54,995] Trial 4 finished with value: 18.308225631713867 and parameters: {'max_depth': 26, 'learning_rate': 0.1274247453476523, 'n_estimators': 76, 'min_child_weight': 5, 'subsample': 0.682456118228177, 'colsample_bytree': 0.6818328645012257, 'reg_alpha': 0.0484488210083658, 'reg_lambda': 2.8458872099097356e-05, 'early_stopping_rounds': 10}. Best is trial 2 with value: 18.23427963256836.\n",
      "[I 2024-01-22 11:24:40,932] Trial 5 finished with value: 18.33284568786621 and parameters: {'max_depth': 21, 'learning_rate': 0.274778570014821, 'n_estimators': 114, 'min_child_weight': 4, 'subsample': 0.5631734690511873, 'colsample_bytree': 0.8016321720461248, 'reg_alpha': 6.902754675288116, 'reg_lambda': 0.005989591412914032, 'early_stopping_rounds': 6}. Best is trial 2 with value: 18.23427963256836.\n",
      "[I 2024-01-22 11:26:49,341] Trial 6 finished with value: 18.257474899291992 and parameters: {'max_depth': 24, 'learning_rate': 0.055075176914205104, 'n_estimators': 109, 'min_child_weight': 2, 'subsample': 0.8202135780425271, 'colsample_bytree': 0.695609659950408, 'reg_alpha': 0.6225797352237626, 'reg_lambda': 0.23052813461637117, 'early_stopping_rounds': 16}. Best is trial 2 with value: 18.23427963256836.\n",
      "[I 2024-01-22 11:26:59,277] Trial 7 finished with value: 18.282629013061523 and parameters: {'max_depth': 10, 'learning_rate': 0.26944494555477794, 'n_estimators': 115, 'min_child_weight': 3, 'subsample': 0.57810595448153, 'colsample_bytree': 0.6736611948618949, 'reg_alpha': 0.00022271491897840764, 'reg_lambda': 7.0046116846954805, 'early_stopping_rounds': 3}. Best is trial 2 with value: 18.23427963256836.\n",
      "[I 2024-01-22 11:27:22,565] Trial 8 finished with value: 18.278656005859375 and parameters: {'max_depth': 20, 'learning_rate': 0.18278608883979675, 'n_estimators': 103, 'min_child_weight': 5, 'subsample': 0.942227429614735, 'colsample_bytree': 0.5342865764628599, 'reg_alpha': 0.19333712923996754, 'reg_lambda': 0.5438551863936768, 'early_stopping_rounds': 4}. Best is trial 2 with value: 18.23427963256836.\n",
      "[I 2024-01-22 11:27:36,909] Trial 9 finished with value: 18.25533103942871 and parameters: {'max_depth': 3, 'learning_rate': 0.08157241845925547, 'n_estimators': 114, 'min_child_weight': 8, 'subsample': 0.6157176585967084, 'colsample_bytree': 0.6841327926863838, 'reg_alpha': 0.04500220493648487, 'reg_lambda': 0.1681722349215547, 'early_stopping_rounds': 18}. Best is trial 2 with value: 18.23427963256836.\n"
     ]
    },
    {
     "name": "stdout",
     "output_type": "stream",
     "text": [
      "['X253' 'X313' 'X250' 'X203' 'X316' 'X222' 'X373' 'time' 'X324' 'X329']\n"
     ]
    }
   ],
   "source": [
    "selected_features = importance_df.sort_values(by='importance', ascending=False).head(10)['feature'].values\n",
    "\n",
    "# Redefine train and validation sets\n",
    "X_train = X_train[selected_features]\n",
    "for i in range(len(X_eval)):\n",
    "    X_eval[i] = X_eval[i][selected_features]\n",
    "\n",
    "# Update study for next iteration\n",
    "study = optuna.create_study(direction='minimize')\n",
    "study.optimize(lambda trial: objective(trial, X_train, y_train, X_eval, y_eval),  n_trials=10)\n",
    "best_params = study.best_params\n",
    "\n",
    "print(selected_features)"
   ]
  },
  {
   "cell_type": "code",
   "execution_count": 24,
   "metadata": {
    "tags": []
   },
   "outputs": [],
   "source": [
    "# Get the best model on train set and dump\n",
    "train_size = int(len(X) * 0.85)\n",
    "\n",
    "# split data into train and validation set\n",
    "X_train, X_eval = X.iloc[:train_size][selected_features], X.iloc[train_size:][selected_features]\n",
    "y_train, y_eval = y.iloc[:train_size], y.iloc[train_size:]\n",
    "\n",
    "\n",
    "model = xgb.XGBRegressor(**best_params)\n",
    "model.fit(X_train, y_train, eval_set=[(X_eval, y_eval)], verbose=0)\n",
    "model.save_model('model_Y2.json')\n"
   ]
  },
  {
   "cell_type": "code",
   "execution_count": null,
   "metadata": {},
   "outputs": [],
   "source": []
  }
 ],
 "metadata": {
  "availableInstances": [
   {
    "_defaultOrder": 0,
    "_isFastLaunch": true,
    "category": "General purpose",
    "gpuNum": 0,
    "hideHardwareSpecs": false,
    "memoryGiB": 4,
    "name": "ml.t3.medium",
    "vcpuNum": 2
   },
   {
    "_defaultOrder": 1,
    "_isFastLaunch": false,
    "category": "General purpose",
    "gpuNum": 0,
    "hideHardwareSpecs": false,
    "memoryGiB": 8,
    "name": "ml.t3.large",
    "vcpuNum": 2
   },
   {
    "_defaultOrder": 2,
    "_isFastLaunch": false,
    "category": "General purpose",
    "gpuNum": 0,
    "hideHardwareSpecs": false,
    "memoryGiB": 16,
    "name": "ml.t3.xlarge",
    "vcpuNum": 4
   },
   {
    "_defaultOrder": 3,
    "_isFastLaunch": false,
    "category": "General purpose",
    "gpuNum": 0,
    "hideHardwareSpecs": false,
    "memoryGiB": 32,
    "name": "ml.t3.2xlarge",
    "vcpuNum": 8
   },
   {
    "_defaultOrder": 4,
    "_isFastLaunch": true,
    "category": "General purpose",
    "gpuNum": 0,
    "hideHardwareSpecs": false,
    "memoryGiB": 8,
    "name": "ml.m5.large",
    "vcpuNum": 2
   },
   {
    "_defaultOrder": 5,
    "_isFastLaunch": false,
    "category": "General purpose",
    "gpuNum": 0,
    "hideHardwareSpecs": false,
    "memoryGiB": 16,
    "name": "ml.m5.xlarge",
    "vcpuNum": 4
   },
   {
    "_defaultOrder": 6,
    "_isFastLaunch": false,
    "category": "General purpose",
    "gpuNum": 0,
    "hideHardwareSpecs": false,
    "memoryGiB": 32,
    "name": "ml.m5.2xlarge",
    "vcpuNum": 8
   },
   {
    "_defaultOrder": 7,
    "_isFastLaunch": false,
    "category": "General purpose",
    "gpuNum": 0,
    "hideHardwareSpecs": false,
    "memoryGiB": 64,
    "name": "ml.m5.4xlarge",
    "vcpuNum": 16
   },
   {
    "_defaultOrder": 8,
    "_isFastLaunch": false,
    "category": "General purpose",
    "gpuNum": 0,
    "hideHardwareSpecs": false,
    "memoryGiB": 128,
    "name": "ml.m5.8xlarge",
    "vcpuNum": 32
   },
   {
    "_defaultOrder": 9,
    "_isFastLaunch": false,
    "category": "General purpose",
    "gpuNum": 0,
    "hideHardwareSpecs": false,
    "memoryGiB": 192,
    "name": "ml.m5.12xlarge",
    "vcpuNum": 48
   },
   {
    "_defaultOrder": 10,
    "_isFastLaunch": false,
    "category": "General purpose",
    "gpuNum": 0,
    "hideHardwareSpecs": false,
    "memoryGiB": 256,
    "name": "ml.m5.16xlarge",
    "vcpuNum": 64
   },
   {
    "_defaultOrder": 11,
    "_isFastLaunch": false,
    "category": "General purpose",
    "gpuNum": 0,
    "hideHardwareSpecs": false,
    "memoryGiB": 384,
    "name": "ml.m5.24xlarge",
    "vcpuNum": 96
   },
   {
    "_defaultOrder": 12,
    "_isFastLaunch": false,
    "category": "General purpose",
    "gpuNum": 0,
    "hideHardwareSpecs": false,
    "memoryGiB": 8,
    "name": "ml.m5d.large",
    "vcpuNum": 2
   },
   {
    "_defaultOrder": 13,
    "_isFastLaunch": false,
    "category": "General purpose",
    "gpuNum": 0,
    "hideHardwareSpecs": false,
    "memoryGiB": 16,
    "name": "ml.m5d.xlarge",
    "vcpuNum": 4
   },
   {
    "_defaultOrder": 14,
    "_isFastLaunch": false,
    "category": "General purpose",
    "gpuNum": 0,
    "hideHardwareSpecs": false,
    "memoryGiB": 32,
    "name": "ml.m5d.2xlarge",
    "vcpuNum": 8
   },
   {
    "_defaultOrder": 15,
    "_isFastLaunch": false,
    "category": "General purpose",
    "gpuNum": 0,
    "hideHardwareSpecs": false,
    "memoryGiB": 64,
    "name": "ml.m5d.4xlarge",
    "vcpuNum": 16
   },
   {
    "_defaultOrder": 16,
    "_isFastLaunch": false,
    "category": "General purpose",
    "gpuNum": 0,
    "hideHardwareSpecs": false,
    "memoryGiB": 128,
    "name": "ml.m5d.8xlarge",
    "vcpuNum": 32
   },
   {
    "_defaultOrder": 17,
    "_isFastLaunch": false,
    "category": "General purpose",
    "gpuNum": 0,
    "hideHardwareSpecs": false,
    "memoryGiB": 192,
    "name": "ml.m5d.12xlarge",
    "vcpuNum": 48
   },
   {
    "_defaultOrder": 18,
    "_isFastLaunch": false,
    "category": "General purpose",
    "gpuNum": 0,
    "hideHardwareSpecs": false,
    "memoryGiB": 256,
    "name": "ml.m5d.16xlarge",
    "vcpuNum": 64
   },
   {
    "_defaultOrder": 19,
    "_isFastLaunch": false,
    "category": "General purpose",
    "gpuNum": 0,
    "hideHardwareSpecs": false,
    "memoryGiB": 384,
    "name": "ml.m5d.24xlarge",
    "vcpuNum": 96
   },
   {
    "_defaultOrder": 20,
    "_isFastLaunch": false,
    "category": "General purpose",
    "gpuNum": 0,
    "hideHardwareSpecs": true,
    "memoryGiB": 0,
    "name": "ml.geospatial.interactive",
    "supportedImageNames": [
     "sagemaker-geospatial-v1-0"
    ],
    "vcpuNum": 0
   },
   {
    "_defaultOrder": 21,
    "_isFastLaunch": true,
    "category": "Compute optimized",
    "gpuNum": 0,
    "hideHardwareSpecs": false,
    "memoryGiB": 4,
    "name": "ml.c5.large",
    "vcpuNum": 2
   },
   {
    "_defaultOrder": 22,
    "_isFastLaunch": false,
    "category": "Compute optimized",
    "gpuNum": 0,
    "hideHardwareSpecs": false,
    "memoryGiB": 8,
    "name": "ml.c5.xlarge",
    "vcpuNum": 4
   },
   {
    "_defaultOrder": 23,
    "_isFastLaunch": false,
    "category": "Compute optimized",
    "gpuNum": 0,
    "hideHardwareSpecs": false,
    "memoryGiB": 16,
    "name": "ml.c5.2xlarge",
    "vcpuNum": 8
   },
   {
    "_defaultOrder": 24,
    "_isFastLaunch": false,
    "category": "Compute optimized",
    "gpuNum": 0,
    "hideHardwareSpecs": false,
    "memoryGiB": 32,
    "name": "ml.c5.4xlarge",
    "vcpuNum": 16
   },
   {
    "_defaultOrder": 25,
    "_isFastLaunch": false,
    "category": "Compute optimized",
    "gpuNum": 0,
    "hideHardwareSpecs": false,
    "memoryGiB": 72,
    "name": "ml.c5.9xlarge",
    "vcpuNum": 36
   },
   {
    "_defaultOrder": 26,
    "_isFastLaunch": false,
    "category": "Compute optimized",
    "gpuNum": 0,
    "hideHardwareSpecs": false,
    "memoryGiB": 96,
    "name": "ml.c5.12xlarge",
    "vcpuNum": 48
   },
   {
    "_defaultOrder": 27,
    "_isFastLaunch": false,
    "category": "Compute optimized",
    "gpuNum": 0,
    "hideHardwareSpecs": false,
    "memoryGiB": 144,
    "name": "ml.c5.18xlarge",
    "vcpuNum": 72
   },
   {
    "_defaultOrder": 28,
    "_isFastLaunch": false,
    "category": "Compute optimized",
    "gpuNum": 0,
    "hideHardwareSpecs": false,
    "memoryGiB": 192,
    "name": "ml.c5.24xlarge",
    "vcpuNum": 96
   },
   {
    "_defaultOrder": 29,
    "_isFastLaunch": true,
    "category": "Accelerated computing",
    "gpuNum": 1,
    "hideHardwareSpecs": false,
    "memoryGiB": 16,
    "name": "ml.g4dn.xlarge",
    "vcpuNum": 4
   },
   {
    "_defaultOrder": 30,
    "_isFastLaunch": false,
    "category": "Accelerated computing",
    "gpuNum": 1,
    "hideHardwareSpecs": false,
    "memoryGiB": 32,
    "name": "ml.g4dn.2xlarge",
    "vcpuNum": 8
   },
   {
    "_defaultOrder": 31,
    "_isFastLaunch": false,
    "category": "Accelerated computing",
    "gpuNum": 1,
    "hideHardwareSpecs": false,
    "memoryGiB": 64,
    "name": "ml.g4dn.4xlarge",
    "vcpuNum": 16
   },
   {
    "_defaultOrder": 32,
    "_isFastLaunch": false,
    "category": "Accelerated computing",
    "gpuNum": 1,
    "hideHardwareSpecs": false,
    "memoryGiB": 128,
    "name": "ml.g4dn.8xlarge",
    "vcpuNum": 32
   },
   {
    "_defaultOrder": 33,
    "_isFastLaunch": false,
    "category": "Accelerated computing",
    "gpuNum": 4,
    "hideHardwareSpecs": false,
    "memoryGiB": 192,
    "name": "ml.g4dn.12xlarge",
    "vcpuNum": 48
   },
   {
    "_defaultOrder": 34,
    "_isFastLaunch": false,
    "category": "Accelerated computing",
    "gpuNum": 1,
    "hideHardwareSpecs": false,
    "memoryGiB": 256,
    "name": "ml.g4dn.16xlarge",
    "vcpuNum": 64
   },
   {
    "_defaultOrder": 35,
    "_isFastLaunch": false,
    "category": "Accelerated computing",
    "gpuNum": 1,
    "hideHardwareSpecs": false,
    "memoryGiB": 61,
    "name": "ml.p3.2xlarge",
    "vcpuNum": 8
   },
   {
    "_defaultOrder": 36,
    "_isFastLaunch": false,
    "category": "Accelerated computing",
    "gpuNum": 4,
    "hideHardwareSpecs": false,
    "memoryGiB": 244,
    "name": "ml.p3.8xlarge",
    "vcpuNum": 32
   },
   {
    "_defaultOrder": 37,
    "_isFastLaunch": false,
    "category": "Accelerated computing",
    "gpuNum": 8,
    "hideHardwareSpecs": false,
    "memoryGiB": 488,
    "name": "ml.p3.16xlarge",
    "vcpuNum": 64
   },
   {
    "_defaultOrder": 38,
    "_isFastLaunch": false,
    "category": "Accelerated computing",
    "gpuNum": 8,
    "hideHardwareSpecs": false,
    "memoryGiB": 768,
    "name": "ml.p3dn.24xlarge",
    "vcpuNum": 96
   },
   {
    "_defaultOrder": 39,
    "_isFastLaunch": false,
    "category": "Memory Optimized",
    "gpuNum": 0,
    "hideHardwareSpecs": false,
    "memoryGiB": 16,
    "name": "ml.r5.large",
    "vcpuNum": 2
   },
   {
    "_defaultOrder": 40,
    "_isFastLaunch": false,
    "category": "Memory Optimized",
    "gpuNum": 0,
    "hideHardwareSpecs": false,
    "memoryGiB": 32,
    "name": "ml.r5.xlarge",
    "vcpuNum": 4
   },
   {
    "_defaultOrder": 41,
    "_isFastLaunch": false,
    "category": "Memory Optimized",
    "gpuNum": 0,
    "hideHardwareSpecs": false,
    "memoryGiB": 64,
    "name": "ml.r5.2xlarge",
    "vcpuNum": 8
   },
   {
    "_defaultOrder": 42,
    "_isFastLaunch": false,
    "category": "Memory Optimized",
    "gpuNum": 0,
    "hideHardwareSpecs": false,
    "memoryGiB": 128,
    "name": "ml.r5.4xlarge",
    "vcpuNum": 16
   },
   {
    "_defaultOrder": 43,
    "_isFastLaunch": false,
    "category": "Memory Optimized",
    "gpuNum": 0,
    "hideHardwareSpecs": false,
    "memoryGiB": 256,
    "name": "ml.r5.8xlarge",
    "vcpuNum": 32
   },
   {
    "_defaultOrder": 44,
    "_isFastLaunch": false,
    "category": "Memory Optimized",
    "gpuNum": 0,
    "hideHardwareSpecs": false,
    "memoryGiB": 384,
    "name": "ml.r5.12xlarge",
    "vcpuNum": 48
   },
   {
    "_defaultOrder": 45,
    "_isFastLaunch": false,
    "category": "Memory Optimized",
    "gpuNum": 0,
    "hideHardwareSpecs": false,
    "memoryGiB": 512,
    "name": "ml.r5.16xlarge",
    "vcpuNum": 64
   },
   {
    "_defaultOrder": 46,
    "_isFastLaunch": false,
    "category": "Memory Optimized",
    "gpuNum": 0,
    "hideHardwareSpecs": false,
    "memoryGiB": 768,
    "name": "ml.r5.24xlarge",
    "vcpuNum": 96
   },
   {
    "_defaultOrder": 47,
    "_isFastLaunch": false,
    "category": "Accelerated computing",
    "gpuNum": 1,
    "hideHardwareSpecs": false,
    "memoryGiB": 16,
    "name": "ml.g5.xlarge",
    "vcpuNum": 4
   },
   {
    "_defaultOrder": 48,
    "_isFastLaunch": false,
    "category": "Accelerated computing",
    "gpuNum": 1,
    "hideHardwareSpecs": false,
    "memoryGiB": 32,
    "name": "ml.g5.2xlarge",
    "vcpuNum": 8
   },
   {
    "_defaultOrder": 49,
    "_isFastLaunch": false,
    "category": "Accelerated computing",
    "gpuNum": 1,
    "hideHardwareSpecs": false,
    "memoryGiB": 64,
    "name": "ml.g5.4xlarge",
    "vcpuNum": 16
   },
   {
    "_defaultOrder": 50,
    "_isFastLaunch": false,
    "category": "Accelerated computing",
    "gpuNum": 1,
    "hideHardwareSpecs": false,
    "memoryGiB": 128,
    "name": "ml.g5.8xlarge",
    "vcpuNum": 32
   },
   {
    "_defaultOrder": 51,
    "_isFastLaunch": false,
    "category": "Accelerated computing",
    "gpuNum": 1,
    "hideHardwareSpecs": false,
    "memoryGiB": 256,
    "name": "ml.g5.16xlarge",
    "vcpuNum": 64
   },
   {
    "_defaultOrder": 52,
    "_isFastLaunch": false,
    "category": "Accelerated computing",
    "gpuNum": 4,
    "hideHardwareSpecs": false,
    "memoryGiB": 192,
    "name": "ml.g5.12xlarge",
    "vcpuNum": 48
   },
   {
    "_defaultOrder": 53,
    "_isFastLaunch": false,
    "category": "Accelerated computing",
    "gpuNum": 4,
    "hideHardwareSpecs": false,
    "memoryGiB": 384,
    "name": "ml.g5.24xlarge",
    "vcpuNum": 96
   },
   {
    "_defaultOrder": 54,
    "_isFastLaunch": false,
    "category": "Accelerated computing",
    "gpuNum": 8,
    "hideHardwareSpecs": false,
    "memoryGiB": 768,
    "name": "ml.g5.48xlarge",
    "vcpuNum": 192
   },
   {
    "_defaultOrder": 55,
    "_isFastLaunch": false,
    "category": "Accelerated computing",
    "gpuNum": 8,
    "hideHardwareSpecs": false,
    "memoryGiB": 1152,
    "name": "ml.p4d.24xlarge",
    "vcpuNum": 96
   },
   {
    "_defaultOrder": 56,
    "_isFastLaunch": false,
    "category": "Accelerated computing",
    "gpuNum": 8,
    "hideHardwareSpecs": false,
    "memoryGiB": 1152,
    "name": "ml.p4de.24xlarge",
    "vcpuNum": 96
   },
   {
    "_defaultOrder": 57,
    "_isFastLaunch": false,
    "category": "Accelerated computing",
    "gpuNum": 0,
    "hideHardwareSpecs": false,
    "memoryGiB": 32,
    "name": "ml.trn1.2xlarge",
    "vcpuNum": 8
   },
   {
    "_defaultOrder": 58,
    "_isFastLaunch": false,
    "category": "Accelerated computing",
    "gpuNum": 0,
    "hideHardwareSpecs": false,
    "memoryGiB": 512,
    "name": "ml.trn1.32xlarge",
    "vcpuNum": 128
   },
   {
    "_defaultOrder": 59,
    "_isFastLaunch": false,
    "category": "Accelerated computing",
    "gpuNum": 0,
    "hideHardwareSpecs": false,
    "memoryGiB": 512,
    "name": "ml.trn1n.32xlarge",
    "vcpuNum": 128
   }
  ],
  "instance_type": "ml.m5.16xlarge",
  "kernelspec": {
   "display_name": "Python 3",
   "language": "python",
   "name": "python3"
  },
  "language_info": {
   "codemirror_mode": {
    "name": "ipython",
    "version": 3
   },
   "file_extension": ".py",
   "mimetype": "text/x-python",
   "name": "python",
   "nbconvert_exporter": "python",
   "pygments_lexer": "ipython3",
   "version": "3.11.7"
  }
 },
 "nbformat": 4,
 "nbformat_minor": 4
}
